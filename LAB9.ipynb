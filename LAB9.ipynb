{
 "cells": [
  {
   "cell_type": "code",
   "execution_count": 1,
   "id": "d7da21d6",
   "metadata": {},
   "outputs": [
    {
     "data": {
      "image/png": "[encoded data removed]",
      "text/plain": [
       "<Figure size 864x432 with 1 Axes>"
      ]
     },
     "metadata": {
      "needs_background": "light"
     },
     "output_type": "display_data"
    },
    {
     "name": "stdout",
     "output_type": "stream",
     "text": [
      "neighbourhood\n",
      "Fort Wadsworth       800.000000\n",
      "Woodrow              700.000000\n",
      "Tribeca              490.638418\n",
      "Sea Gate             487.857143\n",
      "Riverdale            442.090909\n",
      "Prince's Bay         409.500000\n",
      "Battery Park City    367.557143\n",
      "Flatiron District    341.925000\n",
      "Randall Manor        336.000000\n",
      "NoHo                 295.717949\n",
      "Name: price, dtype: float64\n"
     ]
    }
   ],
   "source": [
    "import pandas as pd\n",
    "import seaborn as sns\n",
    "import matplotlib.pyplot as plt\n",
    "\n",
    "airbnb_data = pd.read_csv(\"AB_NYC_2019 - AB_NYC_2019.csv\")\n",
    "plt.figure(figsize=(12, 6))\n",
    "sns.heatmap(airbnb_data.isnull(), cbar=False, cmap='viridis', yticklabels=False)\n",
    "plt.show()\n",
    "\n",
    "\n",
    "airbnb_data['number_of_reviews'].fillna(airbnb_data['number_of_reviews'].mean(), inplace=True)\n",
    "\n",
    "\n",
    "airbnb_data['last_review'] = pd.to_datetime(airbnb_data['last_review'])\n",
    "\n",
    "\n",
    "airbnb_data['last_review_year'] = airbnb_data['last_review'].dt.year\n",
    "\n",
    "avg_price_neighborhood = airbnb_data.groupby('neighbourhood')['price'].mean()\n",
    "\n",
    "\n",
    "top_neighborhoods = avg_price_neighborhood.sort_values(ascending=False).head(10)\n",
    "print(top_neighborhoods)\n"
   ]
  },
  {
   "cell_type": "code",
   "execution_count": null,
   "id": "f29a2bc8",
   "metadata": {},
   "outputs": [],
   "source": [
    "import requests\n",
    "import json\n",
    "\n",
    "class WeatherAPI:\n",
    "    def __init__(self, api_key):\n",
    "        self.api_key = api_key\n",
    "        self.base_url = \"http://api.openweathermap.org/data/2.5/\"\n",
    "\n",
    "    def _send_request(self, endpoint, params):\n",
    "        response = requests.get(self.base_url + endpoint, params=params)\n",
    "        if response.status_code != 200:\n",
    "            raise Exception(f\"Error: {response.status_code} - {response.text}\")\n",
    "        return response.json()\n",
    "\n",
    "    def get_current_weather(self, city):\n",
    "        endpoint = \"weather\"\n",
    "        params = {\"q\": city, \"appid\": self.api_key, \"units\": \"metric\"}\n",
    "        return self._send_request(endpoint, params)\n",
    "\n",
    "    def get_forecast(self, city, days=5):\n",
    "        endpoint = \"forecast\"\n",
    "        params = {\"q\": city, \"appid\": self.api_key, \"units\": \"metric\", \"cnt\": days}\n",
    "        return self._send_request(endpoint, params)\n",
    "\n",
    "    def get_weather_by_coordinates(self, lat, lon):\n",
    "        endpoint = \"weather\"\n",
    "        params = {\"lat\": lat, \"lon\": lon, \"appid\": self.api_key, \"units\": \"metric\"}\n",
    "        return self._send_request(endpoint, params)\n",
    "\n",
    "    def get_weather_by_zipcode(self, zipcode, country_code='us'):\n",
    "        endpoint = \"weather\"\n",
    "        params = {\"zip\": f\"{zipcode},{country_code}\", \"appid\": self.api_key, \"units\": \"metric\"}\n",
    "        return self._send_request(endpoint, params)\n",
    "\n",
    "    def get_weather_by_city_id(self, city_id):\n",
    "        endpoint = \"weather\"\n",
    "        params = {\"id\": city_id, \"appid\": self.api_key, \"units\": \"metric\"}\n",
    "        return self._send_request(endpoint, params)\n",
    "\n",
    "\n",
    "api_key = \"50fc9762cdd665854f1404eb5b2e5149\"\n",
    "weather_api = WeatherAPI(api_key)\n",
    "\n",
    "\n",
    "current_weather = weather_api.get_current_weather(\"New York\")\n",
    "print(json.dumps(current_weather, indent=2))\n",
    "\n",
    "\n",
    "forecast = weather_api.get_forecast(\"New York\")\n",
    "print(json.dumps(forecast, indent=2))\n",
    "\n",
    "\n",
    "coord_weather = weather_api.get_weather_by_coordinates(40.7128, -74.0060)\n",
    "print(json.dumps(coord_weather, indent=2))\n",
    "\n",
    "\n",
    "zip_weather = weather_api.get_weather_by_zipcode(\"10001\")\n",
    "print(json.dumps(zip_weather, indent=2))\n",
    "\n",
    "\n",
    "city_weather = weather_api.get_weather_by_city_id(5128581)  # New York City ID\n",
    "print(json.dumps(city_weather, indent=2))\n"
   ]
  },
  {
   "cell_type": "code",
   "execution_count": null,
   "id": "5de07a4d",
   "metadata": {},
   "outputs": [],
   "source": []
  }
 ],
 "metadata": {
  "kernelspec": {
   "display_name": "Python 3 (ipykernel)",
   "language": "python",
   "name": "python3"
  },
  "language_info": {
   "codemirror_mode": {
    "name": "ipython",
    "version": 3
   },
   "file_extension": ".py",
   "mimetype": "text/x-python",
   "name": "python",
   "nbconvert_exporter": "python",
   "pygments_lexer": "ipython3",
   "version": "3.9.12"
  }
 },
 "nbformat": 4,
 "nbformat_minor": 5
}
