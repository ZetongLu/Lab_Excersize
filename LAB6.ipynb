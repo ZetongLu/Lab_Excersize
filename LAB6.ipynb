{
 "cells": [
  {
   "cell_type": "code",
   "execution_count": 15,
   "id": "751cdd0a",
   "metadata": {},
   "outputs": [
    {
     "ename": "InvalidArgumentException",
     "evalue": "Message: invalid argument: 'using' must be a string\n  (Session info: chrome=111.0.5563.65)\nStacktrace:\nBacktrace:\n\t(No symbol) [0x0049DCE3]\n\t(No symbol) [0x004339D1]\n\t(No symbol) [0x00344DA8]\n\t(No symbol) [0x00370292]\n\t(No symbol) [0x003703AB]\n\t(No symbol) [0x0039EE62]\n\t(No symbol) [0x0038AF14]\n\t(No symbol) [0x0039D57C]\n\t(No symbol) [0x0038ACC6]\n\t(No symbol) [0x00366F68]\n\t(No symbol) [0x003680CD]\n\tGetHandleVerifier [0x00713832+2506274]\n\tGetHandleVerifier [0x00749794+2727300]\n\tGetHandleVerifier [0x0074E36C+2746716]\n\tGetHandleVerifier [0x00546690+617600]\n\t(No symbol) [0x0043C712]\n\t(No symbol) [0x00441FF8]\n\t(No symbol) [0x004420DB]\n\t(No symbol) [0x0044C63B]\n\tBaseThreadInitThunk [0x75347D69+25]\n\tRtlInitializeExceptionChain [0x7719BB9B+107]\n\tRtlClearBits [0x7719BB1F+191]\n",
     "output_type": "error",
     "traceback": [
      "\u001b[1;31m---------------------------------------------------------------------------\u001b[0m",
      "\u001b[1;31mInvalidArgumentException\u001b[0m                  Traceback (most recent call last)",
      "Input \u001b[1;32mIn [15]\u001b[0m, in \u001b[0;36m<cell line: 13>\u001b[1;34m()\u001b[0m\n\u001b[0;32m     21\u001b[0m departments_link \u001b[38;5;241m=\u001b[39m WebDriverWait(driver, \u001b[38;5;241m10\u001b[39m)\u001b[38;5;241m.\u001b[39muntil(\n\u001b[0;32m     22\u001b[0m     EC\u001b[38;5;241m.\u001b[39mpresence_of_element_located((By\u001b[38;5;241m.\u001b[39mXPATH, \u001b[38;5;124m\"\u001b[39m\u001b[38;5;124m//a[@title=\u001b[39m\u001b[38;5;124m'\u001b[39m\u001b[38;5;124mDepartments\u001b[39m\u001b[38;5;124m'\u001b[39m\u001b[38;5;124m]\u001b[39m\u001b[38;5;124m\"\u001b[39m))\n\u001b[0;32m     23\u001b[0m )\n\u001b[0;32m     24\u001b[0m departments_link\u001b[38;5;241m.\u001b[39mclick()\n\u001b[0;32m     27\u001b[0m personnel_link \u001b[38;5;241m=\u001b[39m WebDriverWait(driver, \u001b[38;5;241m10\u001b[39m)\u001b[38;5;241m.\u001b[39muntil(\n\u001b[1;32m---> 28\u001b[0m     \u001b[43mdriver\u001b[49m\u001b[38;5;241;43m.\u001b[39;49m\u001b[43mfind_element\u001b[49m\u001b[43m(\u001b[49m\u001b[43m(\u001b[49m\u001b[43mBy\u001b[49m\u001b[38;5;241;43m.\u001b[39;49m\u001b[43mXPATH\u001b[49m\u001b[43m,\u001b[49m\u001b[43m \u001b[49m\u001b[38;5;124;43m\"\u001b[39;49m\u001b[38;5;124;43m//*[@id=\u001b[39;49m\u001b[38;5;124;43m'\u001b[39;49m\u001b[38;5;124;43mleftNav_2_0_127\u001b[39;49m\u001b[38;5;124;43m'\u001b[39;49m\u001b[38;5;124;43m]/ul/li/ul/li[14]/a[1]/text()\u001b[39;49m\u001b[38;5;124;43m\"\u001b[39;49m\u001b[43m)\u001b[49m\u001b[43m)\u001b[49m\n\u001b[0;32m     29\u001b[0m )\n\u001b[0;32m     30\u001b[0m personnel_link\u001b[38;5;241m.\u001b[39mclick()\n\u001b[0;32m     33\u001b[0m employment_link \u001b[38;5;241m=\u001b[39m WebDriverWait(driver, \u001b[38;5;241m10\u001b[39m)\u001b[38;5;241m.\u001b[39muntil(\n\u001b[0;32m     34\u001b[0m     EC\u001b[38;5;241m.\u001b[39mpresence_of_element_located((By\u001b[38;5;241m.\u001b[39mXPATH, \u001b[38;5;124m\"\u001b[39m\u001b[38;5;124m//a[contains(text(),\u001b[39m\u001b[38;5;124m'\u001b[39m\u001b[38;5;124mEmployment\u001b[39m\u001b[38;5;124m'\u001b[39m\u001b[38;5;124m)]\u001b[39m\u001b[38;5;124m\"\u001b[39m))\n\u001b[0;32m     35\u001b[0m )\n",
      "File \u001b[1;32m~\\anaconda3\\lib\\site-packages\\selenium\\webdriver\\remote\\webdriver.py:830\u001b[0m, in \u001b[0;36mWebDriver.find_element\u001b[1;34m(self, by, value)\u001b[0m\n\u001b[0;32m    827\u001b[0m     by \u001b[38;5;241m=\u001b[39m By\u001b[38;5;241m.\u001b[39mCSS_SELECTOR\n\u001b[0;32m    828\u001b[0m     value \u001b[38;5;241m=\u001b[39m \u001b[38;5;124mf\u001b[39m\u001b[38;5;124m'\u001b[39m\u001b[38;5;124m[name=\u001b[39m\u001b[38;5;124m\"\u001b[39m\u001b[38;5;132;01m{\u001b[39;00mvalue\u001b[38;5;132;01m}\u001b[39;00m\u001b[38;5;124m\"\u001b[39m\u001b[38;5;124m]\u001b[39m\u001b[38;5;124m'\u001b[39m\n\u001b[1;32m--> 830\u001b[0m \u001b[38;5;28;01mreturn\u001b[39;00m \u001b[38;5;28;43mself\u001b[39;49m\u001b[38;5;241;43m.\u001b[39;49m\u001b[43mexecute\u001b[49m\u001b[43m(\u001b[49m\u001b[43mCommand\u001b[49m\u001b[38;5;241;43m.\u001b[39;49m\u001b[43mFIND_ELEMENT\u001b[49m\u001b[43m,\u001b[49m\u001b[43m \u001b[49m\u001b[43m{\u001b[49m\u001b[38;5;124;43m\"\u001b[39;49m\u001b[38;5;124;43musing\u001b[39;49m\u001b[38;5;124;43m\"\u001b[39;49m\u001b[43m:\u001b[49m\u001b[43m \u001b[49m\u001b[43mby\u001b[49m\u001b[43m,\u001b[49m\u001b[43m \u001b[49m\u001b[38;5;124;43m\"\u001b[39;49m\u001b[38;5;124;43mvalue\u001b[39;49m\u001b[38;5;124;43m\"\u001b[39;49m\u001b[43m:\u001b[49m\u001b[43m \u001b[49m\u001b[43mvalue\u001b[49m\u001b[43m}\u001b[49m\u001b[43m)\u001b[49m[\u001b[38;5;124m\"\u001b[39m\u001b[38;5;124mvalue\u001b[39m\u001b[38;5;124m\"\u001b[39m]\n",
      "File \u001b[1;32m~\\anaconda3\\lib\\site-packages\\selenium\\webdriver\\remote\\webdriver.py:440\u001b[0m, in \u001b[0;36mWebDriver.execute\u001b[1;34m(self, driver_command, params)\u001b[0m\n\u001b[0;32m    438\u001b[0m response \u001b[38;5;241m=\u001b[39m \u001b[38;5;28mself\u001b[39m\u001b[38;5;241m.\u001b[39mcommand_executor\u001b[38;5;241m.\u001b[39mexecute(driver_command, params)\n\u001b[0;32m    439\u001b[0m \u001b[38;5;28;01mif\u001b[39;00m response:\n\u001b[1;32m--> 440\u001b[0m     \u001b[38;5;28;43mself\u001b[39;49m\u001b[38;5;241;43m.\u001b[39;49m\u001b[43merror_handler\u001b[49m\u001b[38;5;241;43m.\u001b[39;49m\u001b[43mcheck_response\u001b[49m\u001b[43m(\u001b[49m\u001b[43mresponse\u001b[49m\u001b[43m)\u001b[49m\n\u001b[0;32m    441\u001b[0m     response[\u001b[38;5;124m\"\u001b[39m\u001b[38;5;124mvalue\u001b[39m\u001b[38;5;124m\"\u001b[39m] \u001b[38;5;241m=\u001b[39m \u001b[38;5;28mself\u001b[39m\u001b[38;5;241m.\u001b[39m_unwrap_value(response\u001b[38;5;241m.\u001b[39mget(\u001b[38;5;124m\"\u001b[39m\u001b[38;5;124mvalue\u001b[39m\u001b[38;5;124m\"\u001b[39m, \u001b[38;5;28;01mNone\u001b[39;00m))\n\u001b[0;32m    442\u001b[0m     \u001b[38;5;28;01mreturn\u001b[39;00m response\n",
      "File \u001b[1;32m~\\anaconda3\\lib\\site-packages\\selenium\\webdriver\\remote\\errorhandler.py:245\u001b[0m, in \u001b[0;36mErrorHandler.check_response\u001b[1;34m(self, response)\u001b[0m\n\u001b[0;32m    243\u001b[0m         alert_text \u001b[38;5;241m=\u001b[39m value[\u001b[38;5;124m\"\u001b[39m\u001b[38;5;124malert\u001b[39m\u001b[38;5;124m\"\u001b[39m]\u001b[38;5;241m.\u001b[39mget(\u001b[38;5;124m\"\u001b[39m\u001b[38;5;124mtext\u001b[39m\u001b[38;5;124m\"\u001b[39m)\n\u001b[0;32m    244\u001b[0m     \u001b[38;5;28;01mraise\u001b[39;00m exception_class(message, screen, stacktrace, alert_text)  \u001b[38;5;66;03m# type: ignore[call-arg]  # mypy is not smart enough here\u001b[39;00m\n\u001b[1;32m--> 245\u001b[0m \u001b[38;5;28;01mraise\u001b[39;00m exception_class(message, screen, stacktrace)\n",
      "\u001b[1;31mInvalidArgumentException\u001b[0m: Message: invalid argument: 'using' must be a string\n  (Session info: chrome=111.0.5563.65)\nStacktrace:\nBacktrace:\n\t(No symbol) [0x0049DCE3]\n\t(No symbol) [0x004339D1]\n\t(No symbol) [0x00344DA8]\n\t(No symbol) [0x00370292]\n\t(No symbol) [0x003703AB]\n\t(No symbol) [0x0039EE62]\n\t(No symbol) [0x0038AF14]\n\t(No symbol) [0x0039D57C]\n\t(No symbol) [0x0038ACC6]\n\t(No symbol) [0x00366F68]\n\t(No symbol) [0x003680CD]\n\tGetHandleVerifier [0x00713832+2506274]\n\tGetHandleVerifier [0x00749794+2727300]\n\tGetHandleVerifier [0x0074E36C+2746716]\n\tGetHandleVerifier [0x00546690+617600]\n\t(No symbol) [0x0043C712]\n\t(No symbol) [0x00441FF8]\n\t(No symbol) [0x004420DB]\n\t(No symbol) [0x0044C63B]\n\tBaseThreadInitThunk [0x75347D69+25]\n\tRtlInitializeExceptionChain [0x7719BB9B+107]\n\tRtlClearBits [0x7719BB1F+191]\n"
     ]
    }
   ],
   "source": [
    "from selenium import webdriver\n",
    "from selenium.webdriver.common.action_chains import ActionChains\n",
    "from selenium.webdriver.support.ui import WebDriverWait\n",
    "from selenium.webdriver.support import expected_conditions as EC\n",
    "from selenium.webdriver.common.by import By\n",
    "from bs4 import BeautifulSoup\n",
    "import pandas as pd\n",
    "\n",
    "\n",
    "driver = webdriver.Chrome()\n",
    "driver.get(\"https://www.binghamton-ny.gov/home\")\n",
    "\n",
    "try:\n",
    "\n",
    "    government_tab = WebDriverWait(driver, 10).until(\n",
    "        EC.presence_of_element_located((By.XPATH, \"//a[@title='Government']\"))\n",
    "    )\n",
    "    ActionChains(driver).move_to_element(government_tab).perform()\n",
    "\n",
    "\n",
    "    departments_link = WebDriverWait(driver, 10).until(\n",
    "        EC.presence_of_element_located((By.XPATH, \"//a[@title='Departments']\"))\n",
    "    )\n",
    "    departments_link.click()\n",
    "\n",
    "\n",
    "    personnel_link = WebDriverWait(driver, 10).until(\n",
    "        driver.find_element((By.XPATH, \"//*[@id='leftNav_2_0_127']/ul/li/ul/li[14]/a[1]/text()\"))\n",
    "    )\n",
    "    personnel_link.click()\n",
    "\n",
    "\n",
    "    employment_link = WebDriverWait(driver, 10).until(\n",
    "        EC.presence_of_element_located((By.XPATH, \"//a[contains(text(),'Employment')]\"))\n",
    "    )\n",
    "    employment_link.click()\n",
    "\n",
    "\n",
    "    html = driver.page_source\n",
    "    soup = BeautifulSoup(html, 'html.parser')\n",
    "    table = soup.find('table', attrs={'class': 'views-table'})\n",
    "    rows = table.find_all('tr')[1:]\n",
    "\n",
    "\n",
    "    with open('job_openings.csv', 'w') as f:\n",
    "        f.write('Job Title,Department,Posting Date,Closing Date,Salary\\n')\n",
    "        for row in rows:\n",
    "            cols = row.find_all('td')\n",
    "            job_title = cols[0].text.strip()\n",
    "            department = cols[1].text.strip()\n",
    "            posting_date = cols[2].text.strip()\n",
    "            closing_date = cols[3].text.strip()\n",
    "            salary = cols[4].text.strip()\n",
    "            f.write(f'{job_title},{department},{posting_date},{closing_date},{salary}\\n')\n",
    "\n",
    "\n",
    "    df = pd.read_csv('job_openings.csv')\n",
    "    \n",
    "\n",
    "    job_link = driver.find_element_by_link_text('City Engineer')\n",
    "    job_link.click()\n",
    "    html = driver.page_source\n",
    "    soup = BeautifulSoup(html, 'html.parser')\n",
    "    features = soup.find('strong', text='Distinguishing Features').parent.next_sibling.strip()\n",
    "    qualifications = soup.find('strong', text='Minimum Qualifications').parent.next_sibling.strip()\n",
    "    print(f'Distinguishing Features: {features}\\nMinimum Qualifications: {qualifications}')\n",
    "    \n",
    "\n",
    "    driver.back()\n",
    "finally:\n",
    "    driver.quit()"
   ]
  },
  {
   "cell_type": "code",
   "execution_count": null,
   "id": "bb18d45a",
   "metadata": {},
   "outputs": [],
   "source": []
  }
 ],
 "metadata": {
  "kernelspec": {
   "display_name": "Python 3 (ipykernel)",
   "language": "python",
   "name": "python3"
  },
  "language_info": {
   "codemirror_mode": {
    "name": "ipython",
    "version": 3
   },
   "file_extension": ".py",
   "mimetype": "text/x-python",
   "name": "python",
   "nbconvert_exporter": "python",
   "pygments_lexer": "ipython3",
   "version": "3.9.12"
  }
 },
 "nbformat": 4,
 "nbformat_minor": 5
}
