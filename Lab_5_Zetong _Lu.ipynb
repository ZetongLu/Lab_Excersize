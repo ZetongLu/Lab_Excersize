{
 "cells": [
  {
   "cell_type": "code",
   "execution_count": null,
   "id": "9669e14b",
   "metadata": {
    "scrolled": false
   },
   "outputs": [],
   "source": [
    "! pip install selenium"
   ]
  },
  {
   "cell_type": "code",
   "execution_count": null,
   "id": "bc22a96e",
   "metadata": {},
   "outputs": [],
   "source": [
    "from selenium import webdriver\n",
    "from selenium.webdriver.chrome.service import Service\n",
    "from selenium.webdriver.common.keys import Keys\n",
    "from selenium.webdriver.common.by import By\n",
    "from selenium.webdriver.support.ui import WebDriverWait\n",
    "from selenium.webdriver.support import expected_conditions as EC"
   ]
  },
  {
   "cell_type": "code",
   "execution_count": null,
   "id": "b175bb69",
   "metadata": {},
   "outputs": [],
   "source": [
    "#1\n",
    "from selenium import webdriver\n",
    "from selenium.webdriver.common.keys import Keys\n",
    "from selenium.webdriver.common.by import By\n",
    "from selenium.webdriver.support.ui import WebDriverWait\n",
    "from selenium.webdriver.support import expected_conditions as EC\n",
    "\n",
    "import time\n",
    "\n",
    "PATH = Service(\"C:\\Program Files (x86)\\chromedriver.exe\")\n",
    "\n",
    "driver = webdriver.Chrome(service=PATH)\n",
    "driver.get(\"https://techwithtim.net/\")\n",
    "\n",
    "\n",
    "\n",
    "link = driver.find_element(By.LINK_TEXT,\"Python Programming\")\n",
    "\n",
    "link.click()\n",
    "\n",
    "try:\n",
    "    element = WebDriverWait(driver,10).until(EC.presence_of_element_located((By.LINK_TEXT, \"Beginner Python Tutorials\")))\n",
    "    #wait until 10 second and let driver to find the element\n",
    "    element.click()\n",
    "    #go to the next page on the website\n",
    "    element = WebDriverWait(driver,10).until(EC.presence_of_element_located((By.ID, \"sow-button-19310003\")))\n",
    "    #wait until 10 second and let driver to find the element\n",
    "    element.click()\n",
    "    #go to the next page which is the tutorial video\n",
    "    driver.back()\n",
    "    driver.back()\n",
    "    driver.back()\n",
    "    #go back to the home page\n",
    "    driver.forward()\n",
    "    driver.forward()\n",
    "    #go forward on the website\n",
    "except:\n",
    "    driver.quit()\n",
    "    #quit the website page\n"
   ]
  },
  {
   "cell_type": "code",
   "execution_count": null,
   "id": "1624295e",
   "metadata": {},
   "outputs": [],
   "source": [
    "#2\n",
    "import csv\n",
    "from selenium import webdriver\n",
    "from selenium.webdriver.common.keys import Keys\n",
    "from selenium.webdriver.chrome.options import Options\n",
    "\n",
    "# Set up Selenium to use ChromeDriver\n",
    "chrome_options = Options()\n",
    "chrome_options.add_argument(\"--headless\")  # Run Chrome in headless mode to avoid opening a window\n",
    "driver = webdriver.Chrome(options=chrome_options)\n",
    "\n",
    "# Navigate to data.gov\n",
    "driver.get(\"https://data.gov/\")\n",
    "\n",
    "# Click the Data button\n",
    "data_button = driver.find_element_by_css_selector(\".dropdown-toggle[data-dropdown='Data']\")\n",
    "data_button.click()\n",
    "\n",
    "# Find the search bar and type in \"climate change\"\n",
    "search_bar = driver.find_element_by_name(\"q\")\n",
    "search_bar.send_keys(\"climate change\")\n",
    "search_bar.send_keys(Keys.RETURN)\n",
    "\n",
    "# Scrape the titles and descriptions of the search results\n",
    "results = driver.find_elements_by_css_selector(\".dataset-heading > a\")\n",
    "titles = [result.text for result in results]\n",
    "descriptions = []\n",
    "for result in results:\n",
    "    driver.execute_script(\"arguments[0].scrollIntoView();\", result)  # Scroll to the result to reveal the description\n",
    "    description = result.find_element_by_xpath(\"../following-sibling::div[1]\")\n",
    "    descriptions.append(description.text)\n",
    "\n",
    "# Save the titles and descriptions to a CSV file\n",
    "with open(\"results.csv\", \"w\", newline=\"\", encoding=\"utf-8\") as f:\n",
    "    writer = csv.writer(f)\n",
    "    writer.writerow([\"Title\", \"Description\"])\n",
    "    for title, description in zip(titles, descriptions):\n",
    "        writer.writerow([title, description])\n",
    "\n",
    "# Open the \"Featured Data\" page\n",
    "featured_data_link = driver.find_element_by_css_selector(\"a[href='/featured']\")\n",
    "featured_data_link.click()\n",
    "\n",
    "# Scrape the titles and descriptions of the featured data\n",
    "featured_data = driver.find_elements_by_css_selector(\".dataset-heading > a\")\n",
    "featured_titles = [data.text for data in featured_data]\n",
    "featured_descriptions = []\n",
    "for data in featured_data:\n",
    "    driver.execute_script(\"arguments[0].scrollIntoView();\", data)  # Scroll to the data to reveal the description\n",
    "    description = data.find_element_by_xpath(\"../following-sibling::div[1]\")\n",
    "    featured_descriptions.append(description.text)\n",
    "\n",
    "# Save the featured data to a CSV file\n",
    "with open(\"featured_data.csv\", \"w\", newline=\"\", encoding=\"utf-8\") as f:\n",
    "    writer = csv.writer(f)\n",
    "    writer.writerow([\"Title\", \"Description\"])\n",
    "    for title, description in zip(featured_titles, featured_descriptions):\n",
    "        writer.writerow([title, description])\n",
    "\n",
    "# Close the browser\n",
    "driver.quit()"
   ]
  },
  {
   "cell_type": "code",
   "execution_count": null,
   "id": "8a5e2b6f",
   "metadata": {},
   "outputs": [],
   "source": []
  },
  {
   "cell_type": "code",
   "execution_count": null,
   "id": "fdd6d408",
   "metadata": {},
   "outputs": [],
   "source": []
  },
  {
   "cell_type": "code",
   "execution_count": null,
   "id": "70115cbf",
   "metadata": {},
   "outputs": [],
   "source": []
  },
  {
   "cell_type": "code",
   "execution_count": null,
   "id": "8628ac9e",
   "metadata": {},
   "outputs": [],
   "source": []
  },
  {
   "cell_type": "code",
   "execution_count": null,
   "id": "770c4744",
   "metadata": {},
   "outputs": [],
   "source": []
  },
  {
   "cell_type": "code",
   "execution_count": null,
   "id": "b250df99",
   "metadata": {},
   "outputs": [],
   "source": []
  }
 ],
 "metadata": {
  "kernelspec": {
   "display_name": "Python 3 (ipykernel)",
   "language": "python",
   "name": "python3"
  },
  "language_info": {
   "codemirror_mode": {
    "name": "ipython",
    "version": 3
   },
   "file_extension": ".py",
   "mimetype": "text/x-python",
   "name": "python",
   "nbconvert_exporter": "python",
   "pygments_lexer": "ipython3",
   "version": "3.9.12"
  }
 },
 "nbformat": 4,
 "nbformat_minor": 5
}
