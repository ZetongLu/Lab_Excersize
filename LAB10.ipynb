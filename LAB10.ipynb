{
 "cells": [
  {
   "cell_type": "code",
   "execution_count": null,
   "id": "c0ee7a37",
   "metadata": {},
   "outputs": [],
   "source": [
    "pip install Flask"
   ]
  },
  {
   "cell_type": "code",
   "execution_count": null,
   "id": "68d5d8d5",
   "metadata": {},
   "outputs": [],
   "source": [
    "pip install pyowm\n"
   ]
  },
  {
   "cell_type": "code",
   "execution_count": null,
   "id": "ae5c8a44",
   "metadata": {},
   "outputs": [],
   "source": [
    "from flask import Flask, render_template, request\n",
    "import requests\n",
    "import json\n",
    "\n",
    "app = Flask(__name__)\n",
    "\n",
    "@app.route('/', methods=['GET', 'POST'])\n",
    "def index():\n",
    "    if request.method == 'POST':\n",
    "        person = request.form['person']\n",
    "        response = requests.get(f'https://api.quotable.io/quotes?author={person}')\n",
    "        quote = json.loads(response.content)[0]['content']\n",
    "        return render_template('index.html', quote=quote)\n",
    "    else:\n",
    "        response = requests.get('https://api.quotable.io/authors')\n",
    "        authors = [author['name'] for author in json.loads(response.content)]\n",
    "        return render_template('index.html', authors=authors)\n",
    "\n",
    "if __name__ == '__main__':\n",
    "    app.run(debug=True)\n"
   ]
  },
  {
   "cell_type": "code",
   "execution_count": null,
   "id": "28453215",
   "metadata": {},
   "outputs": [],
   "source": [
    "import pyowm\n",
    "import tkinter as tk\n",
    "from tkinter import ttk\n",
    "\n",
    "owm = pyowm.OWM('43a34a633f1ebdb2855a3eafa99d2c64')\n",
    "mgr = owm.weather_manager()\n",
    "observation = mgr.weather_at_place('New York, US')\n",
    "forecast = mgr.forecast_at_place('New York, US', 'daily').forecast\n",
    "\n",
    "\n",
    "def display_forecast():\n",
    "    for i in range(7):\n",
    "        \n",
    "        date = forecast[i].reference_time('iso').split(' ')[0]\n",
    "        weather = forecast[i].detailed_status\n",
    "        temp = str(int(forecast[i].temperature('fahrenheit')['day'])) + '°F'\n",
    "        \n",
    "        \n",
    "        date_label = ttk.Label(root, text=date)\n",
    "        weather_label = ttk.Label(root, text=weather)\n",
    "        temp_label = ttk.Label(root, text=temp)\n",
    "        \n",
    "       \n",
    "        date_label.grid(row=i+1, column=0, padx=10, pady=10)\n",
    "        weather_label.grid(row=i+1, column=1, padx=10, pady=10)\n",
    "        temp_label.grid(row=i+1, column=2, padx=10, pady=10)\n",
    "\n",
    "\n",
    "root = tk.Tk()\n",
    "root.title('7 Day Forecast')\n",
    "\n",
    "# Create label widgets for the column headers\n",
    "date_header = ttk.Label(root, text='Date')\n",
    "weather_header = ttk.Label(root, text='Weather')\n",
    "temp_header = ttk.Label(root, text='Temperature')\n",
    "\n",
    "# Place the headers in a grid layout\n",
    "date_header.grid(row=0, column=0, padx=10, pady=10)\n",
    "weather_header.grid(row=0, column=1, padx=10, pady=10)\n",
    "temp_header.grid(row=0, column=2, padx=10, pady=10)\n",
    "\n",
    "# Create a button widget to display the forecast\n",
    "button = ttk.Button(root, text='Get Forecast', command=display_forecast)\n",
    "button.grid(row=8, column=1, padx=10, pady=10)\n",
    "\n",
    "# Run the tkinter window\n",
    "root.mainloop()"
   ]
  },
  {
   "cell_type": "code",
   "execution_count": null,
   "id": "6e481fe5",
   "metadata": {},
   "outputs": [],
   "source": []
  }
 ],
 "metadata": {
  "kernelspec": {
   "display_name": "Python 3 (ipykernel)",
   "language": "python",
   "name": "python3"
  },
  "language_info": {
   "codemirror_mode": {
    "name": "ipython",
    "version": 3
   },
   "file_extension": ".py",
   "mimetype": "text/x-python",
   "name": "python",
   "nbconvert_exporter": "python",
   "pygments_lexer": "ipython3",
   "version": "3.9.12"
  }
 },
 "nbformat": 4,
 "nbformat_minor": 5
}
